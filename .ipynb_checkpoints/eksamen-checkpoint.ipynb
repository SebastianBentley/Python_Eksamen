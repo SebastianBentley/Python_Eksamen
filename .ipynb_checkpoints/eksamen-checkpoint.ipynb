{
 "cells": [
  {
   "cell_type": "code",
   "execution_count": 113,
   "metadata": {},
   "outputs": [],
   "source": [
    "import pandas as pd"
   ]
  },
  {
   "cell_type": "code",
   "execution_count": 114,
   "metadata": {},
   "outputs": [],
   "source": [
    "name = \"Lenovo IdeaPad 3 CB 11IGL05\"\n"
   ]
  },
  {
   "cell_type": "code",
   "execution_count": 154,
   "metadata": {},
   "outputs": [
    {
     "data": {
      "text/html": [
       "<div>\n",
       "<style scoped>\n",
       "    .dataframe tbody tr th:only-of-type {\n",
       "        vertical-align: middle;\n",
       "    }\n",
       "\n",
       "    .dataframe tbody tr th {\n",
       "        vertical-align: top;\n",
       "    }\n",
       "\n",
       "    .dataframe thead th {\n",
       "        text-align: right;\n",
       "    }\n",
       "</style>\n",
       "<table border=\"1\" class=\"dataframe\">\n",
       "  <thead>\n",
       "    <tr style=\"text-align: right;\">\n",
       "      <th></th>\n",
       "      <th>Unnamed: 0</th>\n",
       "      <th>name</th>\n",
       "      <th>price</th>\n",
       "      <th>cluster_group</th>\n",
       "    </tr>\n",
       "  </thead>\n",
       "  <tbody>\n",
       "    <tr>\n",
       "      <th>0</th>\n",
       "      <td>0</td>\n",
       "      <td>Apple MacBook Pro M1 2020 13\" 8 GB RAM &amp; 256 G...</td>\n",
       "      <td>10622</td>\n",
       "      <td>0.0</td>\n",
       "    </tr>\n",
       "    <tr>\n",
       "      <th>1</th>\n",
       "      <td>1</td>\n",
       "      <td>Samsung Galaxy Book Pro 360 - Intel Core i7 &amp; ...</td>\n",
       "      <td>11999</td>\n",
       "      <td>0.0</td>\n",
       "    </tr>\n",
       "    <tr>\n",
       "      <th>2</th>\n",
       "      <td>2</td>\n",
       "      <td>ASUS ROG Strix G17 G713QM-HX015T - RTX3060 &amp; R...</td>\n",
       "      <td>11999</td>\n",
       "      <td>0.0</td>\n",
       "    </tr>\n",
       "    <tr>\n",
       "      <th>3</th>\n",
       "      <td>3</td>\n",
       "      <td>Lenovo Legion 5 Pro 16ACH6H - RTX3070 &amp; Ryzen ...</td>\n",
       "      <td>12499</td>\n",
       "      <td>0.0</td>\n",
       "    </tr>\n",
       "    <tr>\n",
       "      <th>4</th>\n",
       "      <td>4</td>\n",
       "      <td>MSI Summit E13 Flip Evo - Intel Core i7 1185G7...</td>\n",
       "      <td>14546</td>\n",
       "      <td>0.0</td>\n",
       "    </tr>\n",
       "  </tbody>\n",
       "</table>\n",
       "</div>"
      ],
      "text/plain": [
       "   Unnamed: 0                                               name  price  \\\n",
       "0           0  Apple MacBook Pro M1 2020 13\" 8 GB RAM & 256 G...  10622   \n",
       "1           1  Samsung Galaxy Book Pro 360 - Intel Core i7 & ...  11999   \n",
       "2           2  ASUS ROG Strix G17 G713QM-HX015T - RTX3060 & R...  11999   \n",
       "3           3  Lenovo Legion 5 Pro 16ACH6H - RTX3070 & Ryzen ...  12499   \n",
       "4           4  MSI Summit E13 Flip Evo - Intel Core i7 1185G7...  14546   \n",
       "\n",
       "   cluster_group  \n",
       "0            0.0  \n",
       "1            0.0  \n",
       "2            0.0  \n",
       "3            0.0  \n",
       "4            0.0  "
      ]
     },
     "execution_count": 154,
     "metadata": {},
     "output_type": "execute_result"
    }
   ],
   "source": [
    "filepath = 'laptop_csv_data.csv'\n",
    "laptops = pd.read_csv(filepath)\n",
    "#laptops.loc[laptops['cluster_group'] == 1.0]\n",
    "laptops.head()\n"
   ]
  },
  {
   "cell_type": "code",
   "execution_count": 201,
   "metadata": {},
   "outputs": [
    {
     "name": "stdout",
     "output_type": "stream",
     "text": [
      "   cluster_group         price  Counts\n",
      "0            0.0   9116.998991     991\n",
      "1            1.0  20742.348416     221\n",
      "2            2.0  32613.736842      19\n",
      "3            3.0  42136.250000       4\n",
      "4            4.0  47224.000000       1\n",
      "5            5.0  64146.000000       1\n",
      "0.0\n"
     ]
    }
   ],
   "source": [
    "filepath2 = 'clusters.csv'\n",
    "clusters = pd.read_csv(filepath2)\n",
    "price = 2099\n",
    "cluster_price = min(list(clusters['price']), key=lambda x:abs(x-price))\n",
    "found_cluster = clusters.loc[clusters['price'] == cluster_price]['cluster_group']\n",
    "\n",
    "    \n",
    "print(clusters)\n",
    "print(float(found_cluster))"
   ]
  },
  {
   "cell_type": "code",
   "execution_count": 202,
   "metadata": {},
   "outputs": [
    {
     "data": {
      "text/html": [
       "<div>\n",
       "<style scoped>\n",
       "    .dataframe tbody tr th:only-of-type {\n",
       "        vertical-align: middle;\n",
       "    }\n",
       "\n",
       "    .dataframe tbody tr th {\n",
       "        vertical-align: top;\n",
       "    }\n",
       "\n",
       "    .dataframe thead th {\n",
       "        text-align: right;\n",
       "    }\n",
       "</style>\n",
       "<table border=\"1\" class=\"dataframe\">\n",
       "  <thead>\n",
       "    <tr style=\"text-align: right;\">\n",
       "      <th></th>\n",
       "      <th>name</th>\n",
       "      <th>price</th>\n",
       "    </tr>\n",
       "  </thead>\n",
       "  <tbody>\n",
       "    <tr>\n",
       "      <th>1209</th>\n",
       "      <td>Lenovo IdeaPad 3 CB 11IGL05</td>\n",
       "      <td>2099</td>\n",
       "    </tr>\n",
       "    <tr>\n",
       "      <th>332</th>\n",
       "      <td>Acer Chromebook 315 CB315-2H-48FN</td>\n",
       "      <td>2128</td>\n",
       "    </tr>\n",
       "    <tr>\n",
       "      <th>83</th>\n",
       "      <td>Acer Chromebook 314 CB314-1H-C8VP - 4 GB RAM &amp;...</td>\n",
       "      <td>2187</td>\n",
       "    </tr>\n",
       "    <tr>\n",
       "      <th>28</th>\n",
       "      <td>Acer TravelMate B1 TMB118-M-C7W2</td>\n",
       "      <td>1999</td>\n",
       "    </tr>\n",
       "    <tr>\n",
       "      <th>662</th>\n",
       "      <td>ASUS Chromebook C202XA-GJ0002</td>\n",
       "      <td>2206</td>\n",
       "    </tr>\n",
       "  </tbody>\n",
       "</table>\n",
       "</div>"
      ],
      "text/plain": [
       "                                                   name  price\n",
       "1209                        Lenovo IdeaPad 3 CB 11IGL05   2099\n",
       "332                   Acer Chromebook 315 CB315-2H-48FN   2128\n",
       "83    Acer Chromebook 314 CB314-1H-C8VP - 4 GB RAM &...   2187\n",
       "28                     Acer TravelMate B1 TMB118-M-C7W2   1999\n",
       "662                       ASUS Chromebook C202XA-GJ0002   2206"
      ]
     },
     "execution_count": 202,
     "metadata": {},
     "output_type": "execute_result"
    }
   ],
   "source": [
    "same_cluster = laptops.loc[laptops['cluster_group'] == float(found_cluster) and laptops['name'] != name][['name','price']]\n",
    "\n",
    "same_cluster.iloc[(same_cluster['price']-price).abs().argsort()[:5]]"
   ]
  }
 ],
 "metadata": {
  "kernelspec": {
   "display_name": "Python 3",
   "language": "python",
   "name": "python3"
  },
  "language_info": {
   "codemirror_mode": {
    "name": "ipython",
    "version": 3
   },
   "file_extension": ".py",
   "mimetype": "text/x-python",
   "name": "python",
   "nbconvert_exporter": "python",
   "pygments_lexer": "ipython3",
   "version": "3.7.6"
  }
 },
 "nbformat": 4,
 "nbformat_minor": 4
}
