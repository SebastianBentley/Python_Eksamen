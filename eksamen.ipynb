{
 "cells": [
  {
   "cell_type": "code",
   "execution_count": 1,
   "metadata": {},
   "outputs": [],
   "source": [
    "import laptops \n",
    "\n",
    "user_input = \"Razer+Blade+15\"\n",
    "test = laptops.komplett(user_input)\n"
   ]
  },
  {
   "cell_type": "code",
   "execution_count": 5,
   "metadata": {},
   "outputs": [
    {
     "name": "stdout",
     "output_type": "stream",
     "text": [
      "['11994', '17495', '18995', '22494', '24995', '25495', '27995']\n"
     ]
    }
   ],
   "source": [
    "#print(test)\n",
    "import re\n",
    "\n",
    "regex_prices = re.compile(r'([\\w.]+)')\n",
    "\n",
    "lol = \"\"\n",
    "for price in test.values():\n",
    "    lol += price\n",
    "    \n",
    "new_prices = []\n",
    "regex_result = regex_prices.findall(lol)\n",
    "for price in regex_result:\n",
    "    new_price = price.replace('.','')\n",
    "    new_prices.append(new_price)\n",
    "\n",
    "print(sorted(new_prices))\n"
   ]
  },
  {
   "cell_type": "code",
   "execution_count": 6,
   "metadata": {},
   "outputs": [
    {
     "name": "stdout",
     "output_type": "stream",
     "text": [
      "{'Razer Blade 15 Base 15,6\" QHD 165 Hz': '18.995,-', 'Razer Blade 15 Advanced 15,6\" QHD 240 Hz': '24.995,-', 'Razer Blade 15 Base 15,6\" FHD 144 Hz': '17.495,-', 'Razer Blade 15 Advanced 15,6\" FHD 360 Hz': '25.495,-', 'Razer Blade 15 Advanced 15,6\" UHD OLED Touch': '27.995,-', 'Razer Blade 15 Base 15,6\" FHD 144 Hz -Demo': '11.994,-', 'Razer Blade 15 Advanced 15,6\" FHD 300 Hz -Demo': '22.494,-'}\n"
     ]
    }
   ],
   "source": [
    "print(test)"
   ]
  },
  {
   "cell_type": "code",
   "execution_count": 25,
   "metadata": {},
   "outputs": [
    {
     "name": "stdout",
     "output_type": "stream",
     "text": [
      "{'Razer Blade 15 Base 15,6\" FHD 144 Hz -Demo': '11994', 'Razer Blade 15 Base 15,6\" FHD 144 Hz': '17495', 'Razer Blade 15 Base 15,6\" QHD 165 Hz': '18995', 'Razer Blade 15 Advanced 15,6\" FHD 300 Hz -Demo': '22494', 'Razer Blade 15 Advanced 15,6\" QHD 240 Hz': '24995', 'Razer Blade 15 Advanced 15,6\" FHD 360 Hz': '25495', 'Razer Blade 15 Advanced 15,6\" UHD OLED Touch': '27995'}\n"
     ]
    }
   ],
   "source": [
    "import re\n",
    "\n",
    "regex_prices = re.compile(r'([\\w.]+)')\n",
    "for name in test.keys():\n",
    "    format_price = (regex_prices.findall(test.get(name))[0]).replace('.','')\n",
    "    test[name] = format_price\n",
    "\n",
    "sorted_laptops = {k: v for k, v in sorted(test.items(), key=lambda item: item[1])}\n",
    "print(sorted_laptops)"
   ]
  },
  {
   "cell_type": "code",
   "execution_count": 2,
   "metadata": {},
   "outputs": [
    {
     "name": "stdout",
     "output_type": "stream",
     "text": [
      "{'The Huntsman: Winter s War - 4K UHD': '129', 'Snow White & The Huntsman - 4K UHD': '129', 'Huntsman: winter s war (blu-ray)': '49', 'Razer Huntsman gaming-tastatur': '667', 'Razer Huntsman Mini gaming tastatur': '799', 'Razer Huntsman Mini gaming tastatur (hvid)': '999'}\n"
     ]
    }
   ],
   "source": [
    "laptops.start(\"huntsman\")"
   ]
  }
 ],
 "metadata": {
  "kernelspec": {
   "display_name": "Python 3",
   "language": "python",
   "name": "python3"
  },
  "language_info": {
   "codemirror_mode": {
    "name": "ipython",
    "version": 3
   },
   "file_extension": ".py",
   "mimetype": "text/x-python",
   "name": "python",
   "nbconvert_exporter": "python",
   "pygments_lexer": "ipython3",
   "version": "3.7.6"
  }
 },
 "nbformat": 4,
 "nbformat_minor": 4
}
