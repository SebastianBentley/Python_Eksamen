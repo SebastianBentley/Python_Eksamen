{
 "cells": [
  {
   "cell_type": "code",
   "execution_count": 43,
   "metadata": {},
   "outputs": [
    {
     "name": "stdout",
     "output_type": "stream",
     "text": [
      "0       (10504.0, 15155.0]\n",
      "1       (10504.0, 15155.0]\n",
      "2       (10504.0, 15155.0]\n",
      "3       (10504.0, 15155.0]\n",
      "4       (10504.0, 15155.0]\n",
      "               ...        \n",
      "1232    (1532.999, 6768.0]\n",
      "1233    (1532.999, 6768.0]\n",
      "1234    (1532.999, 6768.0]\n",
      "1235     (6768.0, 10504.0]\n",
      "1236     (6768.0, 10504.0]\n",
      "Name: price, Length: 1237, dtype: category\n",
      "Categories (4, interval[float64]): [(1532.999, 6768.0] < (6768.0, 10504.0] < (10504.0, 15155.0] < (15155.0, 64146.0]]\n"
     ]
    },
    {
     "data": {
      "text/plain": [
       "(1532.999, 6768.0]    310\n",
       "(15155.0, 64146.0]    309\n",
       "(10504.0, 15155.0]    309\n",
       "(6768.0, 10504.0]     309\n",
       "Name: price_group, dtype: int64"
      ]
     },
     "execution_count": 43,
     "metadata": {},
     "output_type": "execute_result"
    }
   ],
   "source": [
    "filepath = 'laptops.csv'\n",
    "df = pd.read_csv(filepath)\n",
    "df.columns = [\"name\", \"price\"]\n",
    "\n",
    "#df['name'].describe()\n",
    "print(pd.qcut(df['price'], q=4))\n",
    "df['price_group'] = pd.qcut(df['price'], q=4)\n",
    "\n",
    "df\n",
    "\n",
    "df['price_group'].value_counts()"
   ]
  }
 ],
 "metadata": {
  "kernelspec": {
   "display_name": "Python 3",
   "language": "python",
   "name": "python3"
  },
  "language_info": {
   "codemirror_mode": {
    "name": "ipython",
    "version": 3
   },
   "file_extension": ".py",
   "mimetype": "text/x-python",
   "name": "python",
   "nbconvert_exporter": "python",
   "pygments_lexer": "ipython3",
   "version": "3.7.6"
  }
 },
 "nbformat": 4,
 "nbformat_minor": 4
}
